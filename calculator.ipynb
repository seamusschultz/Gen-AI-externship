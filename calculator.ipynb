{
  "nbformat": 4,
  "nbformat_minor": 0,
  "metadata": {
    "colab": {
      "provenance": []
    },
    "kernelspec": {
      "name": "python3",
      "display_name": "Python 3"
    },
    "language_info": {
      "name": "python"
    }
  },
  "cells": [
    {
      "cell_type": "code",
      "execution_count": 22,
      "metadata": {
        "id": "_TV2_N05QwRI"
      },
      "outputs": [],
      "source": [
        "def calculator():\n",
        "\n",
        "  try:\n",
        "    operation=int(input(\"Welcome to the calculator. \\nPlease choose one of the following: \\n 1.Addition 2.Subtraction 3. Multiplication 4.Division 5. Exit\"))\n",
        "  except ValueError:\n",
        "    print(\"that is not a number\")\n",
        "    return\n",
        "  if operation==5:\n",
        "    print(\"exiting now.\")\n",
        "    return\n",
        "  elif operation not in [1,2,3,4]:\n",
        "    print(\"Please choose a number from the list\")\n",
        "    return\n",
        "\n",
        "\n",
        "\n",
        "  try:\n",
        "    num1=int(input(\"PLease enter the first number:  \"))\n",
        "    num2=int(input(\"Please enter the second number: \"))\n",
        "  except ValueError:\n",
        "    print(\"That is not a valid number\")\n",
        "    return\n",
        "\n",
        "  try:\n",
        "    if operation==1:\n",
        "      result=num1+num2\n",
        "    elif operation==2:\n",
        "      result=num1-num2\n",
        "    elif operation==3:\n",
        "      result=num1*num2\n",
        "    else:\n",
        "      result=num1/num2\n",
        "  except ZeroDivisionError:\n",
        "    print(\"you cannot divide by zero.\")\n",
        "  else:\n",
        "    print(f\"the result is {result}\")\n",
        "  finally:\n",
        "    print(\"Calculator complete. Thanks for using\")\n",
        "\n",
        "\n"
      ]
    },
    {
      "cell_type": "code",
      "source": [
        "calculator()"
      ],
      "metadata": {
        "colab": {
          "base_uri": "https://localhost:8080/"
        },
        "id": "dCo2F4CsUuZx",
        "outputId": "80df03ae-fd2c-4f1e-a07c-470b73f6c958"
      },
      "execution_count": 28,
      "outputs": [
        {
          "output_type": "stream",
          "name": "stdout",
          "text": [
            "Welcome to the calculator. \n",
            "Please choose one of the following: \n",
            " 1.Addition 2.Subtraction 3. Multiplication 4.Division 5. Exit4\n",
            "PLease enter the first number:  10\n",
            "Please enter the second number: 5\n",
            "the result is 2.0\n",
            "Calculator complete. Thanks for using\n"
          ]
        }
      ]
    }
  ]
}