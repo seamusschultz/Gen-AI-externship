{
 "cells": [
  {
   "cell_type": "code",
   "execution_count": 1,
   "id": "2a5ff872-a8d1-4d15-899a-d988c38ae257",
   "metadata": {},
   "outputs": [
    {
     "name": "stdin",
     "output_type": "stream",
     "text": [
      "please enter a number:   4\n"
     ]
    }
   ],
   "source": [
    "number=int(input(\"please enter a number:  \"))"
   ]
  },
  {
   "cell_type": "code",
   "execution_count": 3,
   "id": "adf62c10-2747-4297-b9a1-cb88fbc3cb42",
   "metadata": {},
   "outputs": [
    {
     "name": "stdout",
     "output_type": "stream",
     "text": [
      "3210"
     ]
    }
   ],
   "source": [
    "while number>0:\n",
    "    number=number-1\n",
    "    print(number, end=\"\")"
   ]
  },
  {
   "cell_type": "code",
   "execution_count": 5,
   "id": "1001156c-dcc7-4e69-94cf-5fb1f1b68e11",
   "metadata": {},
   "outputs": [
    {
     "name": "stdin",
     "output_type": "stream",
     "text": [
      " please enter a number:   2\n"
     ]
    }
   ],
   "source": [
    "mult=int(input(\" please enter a number:  \"))"
   ]
  },
  {
   "cell_type": "code",
   "execution_count": 11,
   "id": "aa298ca4-e485-41fd-b98b-2fe929f035d2",
   "metadata": {},
   "outputs": [
    {
     "name": "stdout",
     "output_type": "stream",
     "text": [
      "2 4 6 8 10 12 14 16 18 20 "
     ]
    }
   ],
   "source": [
    "for x in range(1,11):\n",
    "    print(mult*x,end=\" \")\n",
    "    "
   ]
  },
  {
   "cell_type": "code",
   "execution_count": 35,
   "id": "63acd5db-3ed0-4551-b87c-e301ead669a8",
   "metadata": {},
   "outputs": [
    {
     "name": "stdin",
     "output_type": "stream",
     "text": [
      "please enter a number:   5\n"
     ]
    }
   ],
   "source": [
    "fact=int(input(\"please enter a number:  \"))"
   ]
  },
  {
   "cell_type": "code",
   "execution_count": 37,
   "id": "f5c1b073-0c84-4d49-b532-49d7354d4a74",
   "metadata": {},
   "outputs": [
    {
     "name": "stdout",
     "output_type": "stream",
     "text": [
      "the factorial of 5 is 120\n"
     ]
    }
   ],
   "source": [
    "factorial=1\n",
    "for y in range(1,fact+1):\n",
    "    factorial*=y\n",
    "print(f\"the factorial of {fact} is {factorial}\")"
   ]
  },
  {
   "cell_type": "code",
   "execution_count": null,
   "id": "e0902626-9b9e-4499-ae2a-ab77f920d0bf",
   "metadata": {},
   "outputs": [],
   "source": []
  }
 ],
 "metadata": {
  "kernelspec": {
   "display_name": "Python [conda env:base] *",
   "language": "python",
   "name": "conda-base-py"
  },
  "language_info": {
   "codemirror_mode": {
    "name": "ipython",
    "version": 3
   },
   "file_extension": ".py",
   "mimetype": "text/x-python",
   "name": "python",
   "nbconvert_exporter": "python",
   "pygments_lexer": "ipython3",
   "version": "3.12.7"
  }
 },
 "nbformat": 4,
 "nbformat_minor": 5
}
