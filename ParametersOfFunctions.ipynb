{
  "nbformat": 4,
  "nbformat_minor": 0,
  "metadata": {
    "colab": {
      "provenance": []
    },
    "kernelspec": {
      "name": "python3",
      "display_name": "Python 3"
    },
    "language_info": {
      "name": "python"
    }
  },
  "cells": [
    {
      "cell_type": "code",
      "execution_count": 6,
      "metadata": {
        "id": "LoeYlxLZ6_ir"
      },
      "outputs": [],
      "source": [
        "def greet_user(name):\n",
        "  print(f\"Hello, {name}!\")\n"
      ]
    },
    {
      "cell_type": "code",
      "source": [
        "greet_user(\"seamus\")"
      ],
      "metadata": {
        "colab": {
          "base_uri": "https://localhost:8080/"
        },
        "id": "W1ush05T7bvR",
        "outputId": "68bacd61-5045-4e10-cf7a-8fb1ff3ac611"
      },
      "execution_count": 8,
      "outputs": [
        {
          "output_type": "stream",
          "name": "stdout",
          "text": [
            "Hello, seamus!\n"
          ]
        }
      ]
    },
    {
      "cell_type": "code",
      "source": [
        "def add_numbers(num1,num2):\n",
        "  return num1+num2"
      ],
      "metadata": {
        "id": "r--wwmb27fvd"
      },
      "execution_count": 9,
      "outputs": []
    },
    {
      "cell_type": "code",
      "source": [
        "add_numbers(2,6)"
      ],
      "metadata": {
        "colab": {
          "base_uri": "https://localhost:8080/"
        },
        "id": "NNXBA38s8O9Q",
        "outputId": "dc4e2c49-c622-4684-99f1-60cb1b51d23a"
      },
      "execution_count": 10,
      "outputs": [
        {
          "output_type": "execute_result",
          "data": {
            "text/plain": [
              "8"
            ]
          },
          "metadata": {},
          "execution_count": 10
        }
      ]
    },
    {
      "cell_type": "code",
      "source": [
        "def describe_pet(pet_name,animal_type):\n",
        "  print(f\"I have a {animal_type} named {pet_name}\")"
      ],
      "metadata": {
        "id": "4zKYDGzt8Rhq"
      },
      "execution_count": 11,
      "outputs": []
    },
    {
      "cell_type": "code",
      "source": [
        "describe_pet(\"Duke\",\"dog\")"
      ],
      "metadata": {
        "colab": {
          "base_uri": "https://localhost:8080/"
        },
        "id": "D9q_GR228oVJ",
        "outputId": "cabab8ae-d88a-4e54-bf87-34e2530bdee3"
      },
      "execution_count": 12,
      "outputs": [
        {
          "output_type": "stream",
          "name": "stdout",
          "text": [
            "I have a dog named Duke\n"
          ]
        }
      ]
    },
    {
      "cell_type": "code",
      "source": [
        "\n",
        "def make_sandwich(*args):\n",
        "  for item in args:\n",
        "      print(item, end=\"\")"
      ],
      "metadata": {
        "id": "wlH8ePBg8ufg"
      },
      "execution_count": 29,
      "outputs": []
    },
    {
      "cell_type": "code",
      "source": [
        "print(\"making a sandwich with the following:\")\n",
        "make_sandwich(\"cheese \",\"ham \",\"lettuce\")\n"
      ],
      "metadata": {
        "colab": {
          "base_uri": "https://localhost:8080/"
        },
        "id": "TAMCwGAo9KvI",
        "outputId": "070bc4e5-fcab-4251-85f6-11788d8c002c"
      },
      "execution_count": 31,
      "outputs": [
        {
          "output_type": "stream",
          "name": "stdout",
          "text": [
            "making a sandwich with the following:\n",
            "cheese ham lettuce"
          ]
        }
      ]
    },
    {
      "cell_type": "code",
      "source": [
        "def factorial(n):\n",
        "  if n==1:\n",
        "    return 1\n",
        "  else:\n",
        "    return n * factorial(n-1)"
      ],
      "metadata": {
        "id": "Jv_TzHGf9Qza"
      },
      "execution_count": 32,
      "outputs": []
    },
    {
      "cell_type": "code",
      "source": [
        "factorial(4)"
      ],
      "metadata": {
        "colab": {
          "base_uri": "https://localhost:8080/"
        },
        "id": "hEgBoabI_hw3",
        "outputId": "09e6f4ce-ee0c-4f30-d101-12f37986f77e"
      },
      "execution_count": 35,
      "outputs": [
        {
          "output_type": "execute_result",
          "data": {
            "text/plain": [
              "24"
            ]
          },
          "metadata": {},
          "execution_count": 35
        }
      ]
    },
    {
      "cell_type": "code",
      "source": [
        "def fibonacci(n):\n",
        "  if n<=1:\n",
        "    return n\n",
        "  else:\n",
        "    return fibonacci(n-1)+ fibonacci(n-2)"
      ],
      "metadata": {
        "id": "COBmyYCP_jRw"
      },
      "execution_count": 36,
      "outputs": []
    },
    {
      "cell_type": "code",
      "source": [
        "fibonacci(6)"
      ],
      "metadata": {
        "colab": {
          "base_uri": "https://localhost:8080/"
        },
        "id": "C9X7FjnwAKlZ",
        "outputId": "322907ec-e486-4dc2-de70-27ea10aec0a0"
      },
      "execution_count": 37,
      "outputs": [
        {
          "output_type": "execute_result",
          "data": {
            "text/plain": [
              "8"
            ]
          },
          "metadata": {},
          "execution_count": 37
        }
      ]
    },
    {
      "cell_type": "code",
      "source": [],
      "metadata": {
        "id": "BfGy5cDWANlR"
      },
      "execution_count": null,
      "outputs": []
    }
  ]
}