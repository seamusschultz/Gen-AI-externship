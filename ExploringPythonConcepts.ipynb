{
 "cells": [
  {
   "cell_type": "code",
   "execution_count": 1,
   "id": "3aa25b84-85b1-4d9b-9c17-459b5be1a4e6",
   "metadata": {},
   "outputs": [],
   "source": [
    "name= \"Seamus\"\n",
    "age = 21\n",
    "height = 6.7"
   ]
  },
  {
   "cell_type": "code",
   "execution_count": 11,
   "id": "2aeaf942-6f67-4236-a7c3-3bbf672985cb",
   "metadata": {},
   "outputs": [
    {
     "name": "stdout",
     "output_type": "stream",
     "text": [
      " my name is Seamus! I am 21 years old and I am 6.7 feet tall\n"
     ]
    }
   ],
   "source": [
    "print(f\" my name is {name}! I am {age} years old and I am {height} feet tall\")"
   ]
  },
  {
   "cell_type": "code",
   "execution_count": 13,
   "id": "6ca070bb-141c-46b2-92fa-b4b6db33640c",
   "metadata": {},
   "outputs": [],
   "source": [
    "num1=1\n",
    "num2=2\n",
    "# creating variables for 1 and 2"
   ]
  },
  {
   "cell_type": "code",
   "execution_count": 23,
   "id": "3a214f01-3e66-4d6f-8002-3f320a81fa73",
   "metadata": {},
   "outputs": [
    {
     "name": "stdout",
     "output_type": "stream",
     "text": [
      "the sum of 1 and 2 is 3\n",
      "the difference of 1 and 2 is -1\n",
      "the product of 1 and 2 is 2\n",
      "the division of 1 and 2 is 0.5\n"
     ]
    }
   ],
   "source": [
    "print(\"the sum of 1 and 2 is\", num1 + num2)\n",
    "print(\"the difference of 1 and 2 is\", num1 - num2)\n",
    "print(\"the product of 1 and 2 is\", num1 * num2)\n",
    "print( \"the division of 1 and 2 is\", num1 / num2)\n",
    "# performing specified operations on the variables"
   ]
  },
  {
   "cell_type": "code",
   "execution_count": 25,
   "id": "a4c68ff9-af48-417c-af34-70e1d65b0362",
   "metadata": {},
   "outputs": [
    {
     "name": "stdin",
     "output_type": "stream",
     "text": [
      "enter a number:  0\n"
     ]
    }
   ],
   "source": [
    "number=int(input(\"enter a number: \"))"
   ]
  },
  {
   "cell_type": "code",
   "execution_count": 27,
   "id": "013cdaa1-2a5b-49d0-a438-6156f1cc1f20",
   "metadata": {},
   "outputs": [
    {
     "name": "stdout",
     "output_type": "stream",
     "text": [
      "Zero it is. A perfect balance\n"
     ]
    }
   ],
   "source": [
    "if number>0:\n",
    "    print(\"This number is positive. Awesome!\")\n",
    "elif number==0:\n",
    "    print(\"Zero it is. A perfect balance\")\n",
    "else:\n",
    "    print(\"This number is negative. Better luck next time!\")"
   ]
  },
  {
   "cell_type": "code",
   "execution_count": null,
   "id": "df270469-ad97-44e2-8137-39858b1ffcb4",
   "metadata": {},
   "outputs": [],
   "source": []
  }
 ],
 "metadata": {
  "kernelspec": {
   "display_name": "Python [conda env:base] *",
   "language": "python",
   "name": "conda-base-py"
  },
  "language_info": {
   "codemirror_mode": {
    "name": "ipython",
    "version": 3
   },
   "file_extension": ".py",
   "mimetype": "text/x-python",
   "name": "python",
   "nbconvert_exporter": "python",
   "pygments_lexer": "ipython3",
   "version": "3.12.7"
  }
 },
 "nbformat": 4,
 "nbformat_minor": 5
}
