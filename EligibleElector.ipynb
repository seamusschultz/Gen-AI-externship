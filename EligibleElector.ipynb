{
 "cells": [
  {
   "cell_type": "code",
   "execution_count": 7,
   "id": "6d15300b-2074-4e01-9a44-fd7f5b286dcf",
   "metadata": {},
   "outputs": [
    {
     "name": "stdin",
     "output_type": "stream",
     "text": [
      "How old are you?   16\n"
     ]
    }
   ],
   "source": [
    "age=int(input(\"How old are you?  \"))\n"
   ]
  },
  {
   "cell_type": "code",
   "execution_count": 9,
   "id": "fbb5d922-046a-4355-b450-a16876457fcf",
   "metadata": {},
   "outputs": [
    {
     "name": "stdout",
     "output_type": "stream",
     "text": [
      "Oops! You’re not eligible yet. But hey, only 2 more years to go!\n"
     ]
    }
   ],
   "source": [
    "if age >= 18:\n",
    "    print(\"Congratulations! You are eligible to vote. Go make a difference!\")\n",
    "else:\n",
    "    print(f\"Oops! You’re not eligible yet. But hey, only {18-age} more years to go!\")"
   ]
  },
  {
   "cell_type": "code",
   "execution_count": null,
   "id": "e8b8dbfa-15b6-4bc5-8d37-b510e6540667",
   "metadata": {},
   "outputs": [],
   "source": []
  }
 ],
 "metadata": {
  "kernelspec": {
   "display_name": "Python [conda env:base] *",
   "language": "python",
   "name": "conda-base-py"
  },
  "language_info": {
   "codemirror_mode": {
    "name": "ipython",
    "version": 3
   },
   "file_extension": ".py",
   "mimetype": "text/x-python",
   "name": "python",
   "nbconvert_exporter": "python",
   "pygments_lexer": "ipython3",
   "version": "3.12.7"
  }
 },
 "nbformat": 4,
 "nbformat_minor": 5
}
