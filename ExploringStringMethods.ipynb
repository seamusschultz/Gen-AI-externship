{
 "cells": [
  {
   "cell_type": "code",
   "execution_count": 1,
   "id": "cea5475c-8854-4729-b145-711be5ec0003",
   "metadata": {},
   "outputs": [],
   "source": [
    "string=\"Python is amazing!\""
   ]
  },
  {
   "cell_type": "code",
   "execution_count": 7,
   "id": "ddff9f7b-4f89-4f3a-8ca2-4f992d33ecf8",
   "metadata": {},
   "outputs": [
    {
     "name": "stdout",
     "output_type": "stream",
     "text": [
      " first word: Python \n",
      " amazing part: amazing\n",
      " reversed string: !gnizama si nohtyP\n"
     ]
    }
   ],
   "source": [
    "first_six=string[0:7]\n",
    "amazing=string[-8:-1]\n",
    "reverse=string[::-1]\n",
    "print(f\" first word: {first_six}\")\n",
    "print(f\" amazing part: {amazing}\")\n",
    "print(f\" reversed string: {reverse}\")"
   ]
  },
  {
   "cell_type": "code",
   "execution_count": 11,
   "id": "4091eefd-02cc-4348-add3-16616ea396d5",
   "metadata": {},
   "outputs": [
    {
     "name": "stdin",
     "output_type": "stream",
     "text": [
      "enter a word hello\n"
     ]
    },
    {
     "name": "stdout",
     "output_type": "stream",
     "text": [
      "sorry, hello is not a palindrome\n"
     ]
    }
   ],
   "source": [
    "palindrome=input(\"enter a word\")\n",
    "if palindrome[::-1]==palindrome:\n",
    "    print(f\"yes, {palindrome} is a palindrome!\")\n",
    "else:\n",
    "    print(f\"sorry, {palindrome} is not a palindrome\")"
   ]
  },
  {
   "cell_type": "code",
   "execution_count": null,
   "id": "0912985f-4791-4a0f-b3c0-c3d310b1e8e1",
   "metadata": {},
   "outputs": [],
   "source": []
  }
 ],
 "metadata": {
  "kernelspec": {
   "display_name": "Python [conda env:base] *",
   "language": "python",
   "name": "conda-base-py"
  },
  "language_info": {
   "codemirror_mode": {
    "name": "ipython",
    "version": 3
   },
   "file_extension": ".py",
   "mimetype": "text/x-python",
   "name": "python",
   "nbconvert_exporter": "python",
   "pygments_lexer": "ipython3",
   "version": "3.12.7"
  }
 },
 "nbformat": 4,
 "nbformat_minor": 5
}
