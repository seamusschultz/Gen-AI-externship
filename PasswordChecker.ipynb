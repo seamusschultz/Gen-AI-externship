{
  "nbformat": 4,
  "nbformat_minor": 0,
  "metadata": {
    "colab": {
      "provenance": []
    },
    "kernelspec": {
      "name": "python3",
      "display_name": "Python 3"
    },
    "language_info": {
      "name": "python"
    }
  },
  "cells": [
    {
      "cell_type": "code",
      "source": [
        "import string"
      ],
      "metadata": {
        "id": "NDZGycG98NbF"
      },
      "execution_count": 8,
      "outputs": []
    },
    {
      "cell_type": "code",
      "execution_count": 7,
      "metadata": {
        "colab": {
          "base_uri": "https://localhost:8080/"
        },
        "id": "VVYHHtwY5zMe",
        "outputId": "ea6201b3-559a-443d-9b5b-64866d9723b9"
      },
      "outputs": [
        {
          "name": "stdout",
          "output_type": "stream",
          "text": [
            "please enter your password:  password\n"
          ]
        }
      ],
      "source": [
        "password=input(\"please enter your password:  \")\n"
      ]
    },
    {
      "cell_type": "code",
      "source": [
        "number= False\n",
        "symbol= False\n",
        "upper = False\n",
        "lower = False\n",
        "length= len(password)>=8"
      ],
      "metadata": {
        "id": "95drDxla9Ir8"
      },
      "execution_count": 10,
      "outputs": []
    },
    {
      "cell_type": "code",
      "source": [
        "for char in password:\n",
        "  if char.isdigit():\n",
        "    number= True\n",
        "  elif char in string.punctuation:\n",
        "    symbol=True\n",
        "  elif char.isupper():\n",
        "    upper= True\n",
        "  elif char.islower():\n",
        "    lower= True\n",
        ""
      ],
      "metadata": {
        "id": "X7sk-iTC9vLU"
      },
      "execution_count": 11,
      "outputs": []
    },
    {
      "cell_type": "code",
      "source": [
        "error=[]\n",
        "if not number:\n",
        "  error.append(\"Your password needs a number.\")\n",
        "if not symbol:\n",
        "  error.append(\"Your password needs a symbol.\")\n",
        "if not upper:\n",
        "  error.append(\"Your password needs a capital letter.\")\n",
        "if not lower:\n",
        "  error.append(\"Your password needs a lower case letter.\")\n"
      ],
      "metadata": {
        "id": "4afQy_c1-csw"
      },
      "execution_count": 12,
      "outputs": []
    },
    {
      "cell_type": "code",
      "source": [
        "if len(error)==0:\n",
        "  print(\"Your password is strong.\")\n",
        "else:\n",
        "  print(\"Your Password is weak. Please improve the following: \")\n",
        "  for problem in error:\n",
        "    print(problem)"
      ],
      "metadata": {
        "colab": {
          "base_uri": "https://localhost:8080/"
        },
        "id": "OQ1i9D9w_LoB",
        "outputId": "7dae3dfb-0513-4454-cea4-087bc54ece07"
      },
      "execution_count": 13,
      "outputs": [
        {
          "output_type": "stream",
          "name": "stdout",
          "text": [
            "Your Password is weak. Please improve the following: \n",
            "Your password needs a number.\n",
            "Your password needs a symbol.\n",
            "Your password needs a capital letter.\n"
          ]
        }
      ]
    },
    {
      "cell_type": "code",
      "source": [],
      "metadata": {
        "id": "f6xYyPBP_mlb"
      },
      "execution_count": null,
      "outputs": []
    }
  ]
}