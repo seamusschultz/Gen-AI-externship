{
  "nbformat": 4,
  "nbformat_minor": 0,
  "metadata": {
    "colab": {
      "provenance": []
    },
    "kernelspec": {
      "name": "python3",
      "display_name": "Python 3"
    },
    "language_info": {
      "name": "python"
    }
  },
  "cells": [
    {
      "cell_type": "code",
      "execution_count": 1,
      "metadata": {
        "colab": {
          "base_uri": "https://localhost:8080/"
        },
        "id": "5DwPy4TFkEJl",
        "outputId": "eb178d90-0ba4-4eba-e50a-13ac86ef0353"
      },
      "outputs": [
        {
          "output_type": "stream",
          "name": "stdout",
          "text": [
            "enter a number:  5\n",
            "2.0\n"
          ]
        }
      ],
      "source": [
        "try:\n",
        "  num=int(input(\"enter a number:  \"))\n",
        "  print(10/num)\n",
        "except ValueError:\n",
        "  print(\"thats not a valid number\")\n",
        "except ZeroDivisionError:\n",
        "  print(\"you cannot divide by zero.\")"
      ]
    },
    {
      "cell_type": "code",
      "source": [
        "list=[\"green\",\"purple\", \"yellow\", \"blue\"]\n",
        "dict= {\"name\":\"seamus\",\"age\":\"21\",\"height\":\"6-7\"}\n"
      ],
      "metadata": {
        "id": "DSalxjq3k2cJ"
      },
      "execution_count": 10,
      "outputs": []
    },
    {
      "cell_type": "code",
      "source": [
        "try:\n",
        "  index=int(input(\"please enter which element of the list you would like to see\"))\n",
        "  print(list[index])\n",
        "except IndexError: #error occurs if index is not in the list. it explains that this index is not in the list\n",
        "  print(\"that element does not exist\")"
      ],
      "metadata": {
        "colab": {
          "base_uri": "https://localhost:8080/"
        },
        "id": "uwmZ1aSBl4Ah",
        "outputId": "dbe60410-c972-4678-dbb0-d0b409b4f9d6"
      },
      "execution_count": 5,
      "outputs": [
        {
          "output_type": "stream",
          "name": "stdout",
          "text": [
            "please enter which element of the list you would like to see7\n",
            "that element does not exist\n"
          ]
        }
      ]
    },
    {
      "cell_type": "code",
      "source": [
        "try:\n",
        "  dict_index=str(input(\"which element of the dictionary would you like to see? optionas include name, age, height\"))\n",
        "  print(dict[dict_index])\n",
        "except KeyError: #explains that the desired key is not available in the list\n",
        "  print(\"that element does not exist\")"
      ],
      "metadata": {
        "colab": {
          "base_uri": "https://localhost:8080/"
        },
        "id": "hfjkSktFl_9j",
        "outputId": "294a4fa7-39ac-48ca-aa76-d179754e8ffd"
      },
      "execution_count": 9,
      "outputs": [
        {
          "output_type": "stream",
          "name": "stdout",
          "text": [
            "which element of the dictionary would you like to see? optionas include name, age, heightheight\n",
            "6-7\n"
          ]
        }
      ]
    },
    {
      "cell_type": "code",
      "source": [
        "try:\n",
        "  print(list[1]+20)\n",
        "except TypeError: #checks if variables are same type then returns message if not\n",
        "  print(\"cannot add those two\")"
      ],
      "metadata": {
        "colab": {
          "base_uri": "https://localhost:8080/"
        },
        "id": "H27EpoC7nR3A",
        "outputId": "28073f39-6356-486b-b383-4fdc2e0a50a8"
      },
      "execution_count": 11,
      "outputs": [
        {
          "output_type": "stream",
          "name": "stdout",
          "text": [
            "cannot add those two\n"
          ]
        }
      ]
    },
    {
      "cell_type": "code",
      "source": [
        "\n",
        "\n",
        "try:\n",
        "  numb1=int(input(\"enter the first number:  \"))\n",
        "  numb2=int(input(\"enter the second number:  \"))\n",
        "  result= numb1/numb2\n",
        "except ValueError:\n",
        "  print(\"thats not a number.\")\n",
        "except ZeroDivisionError:\n",
        "  print(\"cannot divide by zero\")\n",
        "else:\n",
        "  print(f\"the result is {result}\")\n",
        "finally:\n",
        "  print(\"the program has ended\")\n"
      ],
      "metadata": {
        "colab": {
          "base_uri": "https://localhost:8080/"
        },
        "id": "6wmwFay8oHId",
        "outputId": "043d1844-99b4-4bc6-c2ac-c5c0aad58409"
      },
      "execution_count": 16,
      "outputs": [
        {
          "output_type": "stream",
          "name": "stdout",
          "text": [
            "enter the first number:  3\n",
            "enter the second number:  string\n",
            "thats not a number.\n",
            "the program has ended\n"
          ]
        }
      ]
    },
    {
      "cell_type": "code",
      "source": [],
      "metadata": {
        "id": "aka8wSWIq3dm"
      },
      "execution_count": 12,
      "outputs": []
    }
  ]
}