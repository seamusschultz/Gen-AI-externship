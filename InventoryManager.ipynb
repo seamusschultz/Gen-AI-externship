{
  "nbformat": 4,
  "nbformat_minor": 0,
  "metadata": {
    "colab": {
      "provenance": []
    },
    "kernelspec": {
      "name": "python3",
      "display_name": "Python 3"
    },
    "language_info": {
      "name": "python"
    }
  },
  "cells": [
    {
      "cell_type": "code",
      "execution_count": 22,
      "metadata": {
        "colab": {
          "base_uri": "https://localhost:8080/"
        },
        "id": "VxyllZj0HBoo",
        "outputId": "0747e4b7-da27-47dd-850d-184178052f51"
      },
      "outputs": [
        {
          "output_type": "stream",
          "name": "stdout",
          "text": [
            "welcome to inventory manger. Current Inventory:\n",
            "{'bananas': (5, 3.0), 'oranges': (3, 2.0)}\n",
            "Adding a new item: apples\n",
            "{'bananas': (5, 3.0), 'oranges': (3, 2.0), 'apples': (6, 2.5)}\n",
            "removing an item: bananas\n",
            "{'oranges': (3, 2.0), 'apples': (6, 2.5)}\n",
            "updated inventory:\n",
            "Item: oranges, Quantity: 3, Price: $2.0\n",
            "Item: apples, Quantity: 6, Price: $2.5\n",
            "Total inventory value= $21.0\n"
          ]
        }
      ],
      "source": [
        "print(\"welcome to inventory manger. Current Inventory:\")\n",
        "\n",
        "inventory={}\n",
        "inventory[\"bananas\"]=(5,3.0)\n",
        "inventory[\"oranges\"]=(3,2.0)\n",
        "print(inventory)\n",
        "\n",
        "print(\"Adding a new item: apples\")\n",
        "\n",
        "inventory[\"apples\"]=(6,2.5)\n",
        "print(inventory)\n",
        "\n",
        "print(\"removing an item: bananas\")\n",
        "\n",
        "del inventory[\"bananas\"]\n",
        "print(inventory)\n",
        "\n",
        "print(\"updated inventory:\")\n",
        "\n",
        "for x, (y,z) in inventory.items():\n",
        "  print(f\"Item: {x}, Quantity: {y}, Price: ${z}\")\n",
        "\n",
        "total_profit=0\n",
        "for x, (y,z) in inventory.items():\n",
        "  profit=(y*z)\n",
        "  total_profit +=profit\n",
        "\n",
        "\n",
        "print(f\"Total inventory value= ${total_profit}\")"
      ]
    }
  ]
}