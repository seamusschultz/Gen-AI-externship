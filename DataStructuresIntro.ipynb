{
  "nbformat": 4,
  "nbformat_minor": 0,
  "metadata": {
    "colab": {
      "provenance": []
    },
    "kernelspec": {
      "name": "python3",
      "display_name": "Python 3"
    },
    "language_info": {
      "name": "python"
    }
  },
  "cells": [
    {
      "cell_type": "code",
      "execution_count": 1,
      "metadata": {
        "id": "_QeCszu_DKBN"
      },
      "outputs": [],
      "source": [
        "fruits=[\"apple\", \"banana\",\"strawberry\",\"blueberry\",\"pear\"]"
      ]
    },
    {
      "cell_type": "code",
      "source": [
        "fruits.append(\"orange\")\n",
        "print(fruits)"
      ],
      "metadata": {
        "colab": {
          "base_uri": "https://localhost:8080/"
        },
        "id": "y6BQpjUzDZ1V",
        "outputId": "b7e99f36-8713-40e9-ccff-761cea923506"
      },
      "execution_count": 7,
      "outputs": [
        {
          "output_type": "stream",
          "name": "stdout",
          "text": [
            "['apple', 'banana', 'strawberry', 'blueberry', 'pear', 'orange']\n"
          ]
        }
      ]
    },
    {
      "cell_type": "code",
      "source": [
        "fruits.remove(\"pear\")\n",
        "print(fruits)"
      ],
      "metadata": {
        "colab": {
          "base_uri": "https://localhost:8080/"
        },
        "id": "Bm_2we8HDjSa",
        "outputId": "1c7d19ce-84db-47a4-c552-708de307ac7b"
      },
      "execution_count": 8,
      "outputs": [
        {
          "output_type": "stream",
          "name": "stdout",
          "text": [
            "['apple', 'banana', 'strawberry', 'blueberry', 'orange']\n"
          ]
        }
      ]
    },
    {
      "cell_type": "code",
      "source": [
        "print(fruits[::-1])"
      ],
      "metadata": {
        "colab": {
          "base_uri": "https://localhost:8080/"
        },
        "id": "3oZIQyrtD4FG",
        "outputId": "4aa09c81-2896-49ae-8453-76d268449b27"
      },
      "execution_count": 9,
      "outputs": [
        {
          "output_type": "stream",
          "name": "stdout",
          "text": [
            "['orange', 'blueberry', 'strawberry', 'banana', 'apple']\n"
          ]
        }
      ]
    },
    {
      "cell_type": "code",
      "source": [
        "info = {\"name\": \"Seamus\", \"age\": 21, \"city\": \"Philadelphia\"}"
      ],
      "metadata": {
        "id": "1z1M8PXfD7tL"
      },
      "execution_count": 10,
      "outputs": []
    },
    {
      "cell_type": "code",
      "source": [
        "info[\"favorite color\"]=\"green\"\n",
        "print(info)"
      ],
      "metadata": {
        "colab": {
          "base_uri": "https://localhost:8080/"
        },
        "id": "4ece3GlFEYyw",
        "outputId": "b92ee090-90ea-42a0-be80-b7bac3316934"
      },
      "execution_count": 11,
      "outputs": [
        {
          "output_type": "stream",
          "name": "stdout",
          "text": [
            "{'name': 'Seamus', 'age': 21, 'city': 'Philadelphia', 'favorite color': 'green'}\n"
          ]
        }
      ]
    },
    {
      "cell_type": "code",
      "source": [
        "info[\"city\"]=\"Hoboken\"\n",
        "print(info)"
      ],
      "metadata": {
        "colab": {
          "base_uri": "https://localhost:8080/"
        },
        "id": "TEMHAnWQEpk2",
        "outputId": "a83e3c3b-c579-430b-a861-8773b444638d"
      },
      "execution_count": 12,
      "outputs": [
        {
          "output_type": "stream",
          "name": "stdout",
          "text": [
            "{'name': 'Seamus', 'age': 21, 'city': 'Hoboken', 'favorite color': 'green'}\n"
          ]
        }
      ]
    },
    {
      "cell_type": "code",
      "source": [
        "for x in info.items():\n",
        "  print(x)"
      ],
      "metadata": {
        "colab": {
          "base_uri": "https://localhost:8080/"
        },
        "id": "KPV6uLmqEyeE",
        "outputId": "a2ac02d3-0f38-4bcb-b8e1-25beea533e24"
      },
      "execution_count": 15,
      "outputs": [
        {
          "output_type": "stream",
          "name": "stdout",
          "text": [
            "('name', 'Seamus')\n",
            "('age', 21)\n",
            "('city', 'Hoboken')\n",
            "('favorite color', 'green')\n"
          ]
        }
      ]
    },
    {
      "cell_type": "code",
      "source": [
        "favorites=('Apocalypse now','Take Me To The Top','Burn Your Goals')"
      ],
      "metadata": {
        "id": "rCLxxx8LE9T2"
      },
      "execution_count": 16,
      "outputs": []
    },
    {
      "cell_type": "code",
      "source": [
        "favorites[0]='The Prestige'"
      ],
      "metadata": {
        "colab": {
          "base_uri": "https://localhost:8080/",
          "height": 146
        },
        "id": "z4EcCTLuF7Ol",
        "outputId": "335215ae-0b33-4296-c1b2-72a6abf60ef6"
      },
      "execution_count": 19,
      "outputs": [
        {
          "output_type": "error",
          "ename": "TypeError",
          "evalue": "'tuple' object does not support item assignment",
          "traceback": [
            "\u001b[0;31m---------------------------------------------------------------------------\u001b[0m",
            "\u001b[0;31mTypeError\u001b[0m                                 Traceback (most recent call last)",
            "\u001b[0;32m<ipython-input-19-a8765afd5201>\u001b[0m in \u001b[0;36m<cell line: 0>\u001b[0;34m()\u001b[0m\n\u001b[0;32m----> 1\u001b[0;31m \u001b[0mfavorites\u001b[0m\u001b[0;34m[\u001b[0m\u001b[0;36m0\u001b[0m\u001b[0;34m]\u001b[0m\u001b[0;34m=\u001b[0m\u001b[0;34m'The Prestige'\u001b[0m\u001b[0;34m\u001b[0m\u001b[0;34m\u001b[0m\u001b[0m\n\u001b[0m",
            "\u001b[0;31mTypeError\u001b[0m: 'tuple' object does not support item assignment"
          ]
        }
      ]
    },
    {
      "cell_type": "code",
      "source": [
        "length=(len(favorites))\n",
        "print(f\"the length of this tuple is {length}\")"
      ],
      "metadata": {
        "colab": {
          "base_uri": "https://localhost:8080/"
        },
        "id": "cE3liVhzGHE2",
        "outputId": "68311d81-7e96-4ef9-c6ad-8b7105dfcafd"
      },
      "execution_count": 21,
      "outputs": [
        {
          "output_type": "stream",
          "name": "stdout",
          "text": [
            "the length of this tuple is 3\n"
          ]
        }
      ]
    },
    {
      "cell_type": "code",
      "source": [],
      "metadata": {
        "id": "bgjczuSEGagu"
      },
      "execution_count": null,
      "outputs": []
    }
  ]
}