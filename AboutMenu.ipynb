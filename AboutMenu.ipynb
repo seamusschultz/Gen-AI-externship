{
  "nbformat": 4,
  "nbformat_minor": 0,
  "metadata": {
    "colab": {
      "provenance": []
    },
    "kernelspec": {
      "name": "python3",
      "display_name": "Python 3"
    },
    "language_info": {
      "name": "python"
    }
  },
  "cells": [
    {
      "cell_type": "code",
      "source": [
        "def factorial(n):\n",
        "  if n==1:\n",
        "    return 1\n",
        "  else:\n",
        "    return n * factorial(n-1)\n",
        "\n",
        "def fibonacci(y):\n",
        "  if y<=1:\n",
        "    return y\n",
        "  else:\n",
        "    return fibonacci(y-1)+ fibonacci(y-2)\n",
        "\n",
        "choice= input(\"Please choose a program. Your choices are fibonacci or factorial:  \").lower()\n",
        "\n",
        "\n",
        "if choice==\"factorial\":\n",
        "  num=int(input(\"Please enter the number to find its factorial: \"))\n",
        "  fac_num=factorial(num)\n",
        "  print(f\"the factorial of {num} is {fac_num}\")\n",
        "elif choice==\"fibonacci\":\n",
        "  fib=int(input(\"Please enter a number to find the corresponding Fibonacci value:  \"))\n",
        "  fib_num=fibonacci(fib)\n",
        "  print(f\"The fibonacci value of {fib} is {fib_num}\")\n",
        "elif choice==\"exit\":\n",
        "  print(\"program exiting. Thanks for playing\")\n",
        "else:\n",
        "  print(\"input not recognized. Please check for spelling errors and try again.\")\n",
        "\n"
      ],
      "metadata": {
        "colab": {
          "base_uri": "https://localhost:8080/"
        },
        "id": "hGyLvWSZRpen",
        "outputId": "fbbbad2a-ed5d-4e74-f89a-ff6e12f8df5d"
      },
      "execution_count": 13,
      "outputs": [
        {
          "output_type": "stream",
          "name": "stdout",
          "text": [
            "Please choose a program. Your choices are fibonacci or factorial:  exit\n",
            "program exiting. Thanks for playing\n"
          ]
        }
      ]
    },
    {
      "cell_type": "code",
      "source": [],
      "metadata": {
        "id": "O0rlplPaVPZ1"
      },
      "execution_count": null,
      "outputs": []
    }
  ]
}