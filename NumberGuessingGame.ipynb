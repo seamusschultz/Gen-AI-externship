{
 "cells": [
  {
   "cell_type": "code",
   "execution_count": 1,
   "id": "7e6cbd9a-3e81-4be5-b5e1-491f3b4e95c3",
   "metadata": {},
   "outputs": [],
   "source": [
    "import random"
   ]
  },
  {
   "cell_type": "code",
   "execution_count": 3,
   "id": "1b11a137-bc30-4ad9-a908-228dd7f74a1b",
   "metadata": {},
   "outputs": [],
   "source": [
    "target_number=random.randint(1,100)"
   ]
  },
  {
   "cell_type": "code",
   "execution_count": 5,
   "id": "1b8970d4-46c7-4640-a77c-001cf26790dd",
   "metadata": {},
   "outputs": [
    {
     "name": "stdin",
     "output_type": "stream",
     "text": [
      "please enter a number from 1 to 100:   32\n"
     ]
    },
    {
     "name": "stdout",
     "output_type": "stream",
     "text": [
      "Too low! Try again.\n"
     ]
    },
    {
     "name": "stdin",
     "output_type": "stream",
     "text": [
      "please enter a number from 1 to 100:   90\n"
     ]
    },
    {
     "name": "stdout",
     "output_type": "stream",
     "text": [
      "Too high! Try again.\n"
     ]
    },
    {
     "name": "stdin",
     "output_type": "stream",
     "text": [
      "please enter a number from 1 to 100:   66\n"
     ]
    },
    {
     "name": "stdout",
     "output_type": "stream",
     "text": [
      "Too high! Try again.\n"
     ]
    },
    {
     "name": "stdin",
     "output_type": "stream",
     "text": [
      "please enter a number from 1 to 100:   54\n"
     ]
    },
    {
     "name": "stdout",
     "output_type": "stream",
     "text": [
      "Too low! Try again.\n"
     ]
    },
    {
     "name": "stdin",
     "output_type": "stream",
     "text": [
      "please enter a number from 1 to 100:   60\n"
     ]
    },
    {
     "name": "stdout",
     "output_type": "stream",
     "text": [
      "Too low! Try again.\n"
     ]
    },
    {
     "name": "stdin",
     "output_type": "stream",
     "text": [
      "please enter a number from 1 to 100:   63\n"
     ]
    },
    {
     "name": "stdout",
     "output_type": "stream",
     "text": [
      "Too low! Try again.\n"
     ]
    },
    {
     "name": "stdin",
     "output_type": "stream",
     "text": [
      "please enter a number from 1 to 100:   64\n"
     ]
    },
    {
     "name": "stdout",
     "output_type": "stream",
     "text": [
      "Too low! Try again.\n"
     ]
    },
    {
     "name": "stdin",
     "output_type": "stream",
     "text": [
      "please enter a number from 1 to 100:   65\n"
     ]
    },
    {
     "name": "stdout",
     "output_type": "stream",
     "text": [
      "Congratulations! You guessed it in 8 attempts!\n"
     ]
    }
   ],
   "source": [
    "attempts=10\n",
    "count=0\n",
    "while attempts>0:\n",
    "    user_guess=int(input(\"please enter a number from 1 to 100:  \"))\n",
    "    attempts=attempts-1\n",
    "    count=count+1\n",
    "    if user_guess>target_number:\n",
    "        print(\"Too high! Try again.\")\n",
    "    elif user_guess<target_number:\n",
    "        print(\"Too low! Try again.\")\n",
    "    else:\n",
    "        print(f\"Congratulations! You guessed it in {count} attempts!\")\n",
    "        break\n",
    "else:\n",
    "    print(f\"Sorry, you're out of attempts! The number was {target_number}.\")"
   ]
  },
  {
   "cell_type": "code",
   "execution_count": null,
   "id": "483fb6f1-a17f-40f4-99cc-2df66b7b0e0c",
   "metadata": {},
   "outputs": [],
   "source": []
  }
 ],
 "metadata": {
  "kernelspec": {
   "display_name": "Python [conda env:base] *",
   "language": "python",
   "name": "conda-base-py"
  },
  "language_info": {
   "codemirror_mode": {
    "name": "ipython",
    "version": 3
   },
   "file_extension": ".py",
   "mimetype": "text/x-python",
   "name": "python",
   "nbconvert_exporter": "python",
   "pygments_lexer": "ipython3",
   "version": "3.12.7"
  }
 },
 "nbformat": 4,
 "nbformat_minor": 5
}
